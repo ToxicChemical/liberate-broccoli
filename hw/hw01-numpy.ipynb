{
  "metadata": {
    "kernelspec": {
      "name": "python",
      "display_name": "Python (Pyodide)",
      "language": "python"
    },
    "language_info": {
      "codemirror_mode": {
        "name": "python",
        "version": 3
      },
      "file_extension": ".py",
      "mimetype": "text/x-python",
      "name": "python",
      "nbconvert_exporter": "python",
      "pygments_lexer": "ipython3",
      "version": "3.8"
    }
  },
  "nbformat_minor": 4,
  "nbformat": 4,
  "cells": [
    {
      "cell_type": "markdown",
      "source": "## Домашнее задание 1 (5 баллов)\n\nВсе задания ниже имеют равный вес (5/10).",
      "metadata": {}
    },
    {
      "cell_type": "markdown",
      "source": "### О задании\n\nВ этом домашнем задании вы попрактикуетесь в работе с библиотекой numpy, которая позволяет сравнительно легко и удобно выполнять разнообразные вычисления, избегая самостоятельной реализации поэлементной обработки.",
      "metadata": {}
    },
    {
      "cell_type": "markdown",
      "source": "Во всех задачах необходимо написать код решения внутри функции и убедиться, что она работает, с помощью [assert](https://python-reference.readthedocs.io/en/latest/docs/statements/assert.html) на выражение с использованием этой функции для данных из условия.\n\nПри решении задач запрещается использовать циклы (`for`, `while`) и оператор `if`.\n\nВезде, где встречаются массивы или матрицы, подразумевается, что это `numpy.array`.\n\n**numpy reference:** https://numpy.org/doc/stable/reference/index.html",
      "metadata": {}
    },
    {
      "cell_type": "code",
      "source": "import numpy as np",
      "metadata": {
        "pycharm": {
          "name": "#%%\n"
        },
        "trusted": true
      },
      "execution_count": 3,
      "outputs": []
    },
    {
      "cell_type": "markdown",
      "source": "### Задание 1",
      "metadata": {}
    },
    {
      "cell_type": "markdown",
      "source": "Напишите функцию, возвращающую округленную взвешенную сумму оценок по данным оценкам и весам. Можете посчитать свою оценку за курс :) В нашем случае вес экзамена равен 0.3, вес домашек - 0.4, вес контрольной - 0.2, вес самостоятельных - 0.1. Например, если за экзамен у вас 7, за домашки 10, за контрольную 8, а за самостоятельные 6, то вы получите отличную оценку 8!",
      "metadata": {}
    },
    {
      "cell_type": "code",
      "source": "def result_mark(weights: np.array, marks: np.array) -> int:\n\treturn np.round(np.average(marks, weights=weights))",
      "metadata": {
        "pycharm": {
          "name": "#%%\n"
        }
      },
      "execution_count": 3,
      "outputs": []
    },
    {
      "cell_type": "code",
      "source": "weights = np.array([0.3, 0.4, 0.2, 0.1])\nmarks = np.array([7, 10, 8, 6])\n\nassert result_mark(weights, marks) == 8",
      "metadata": {
        "pycharm": {
          "name": "#%%\n"
        }
      },
      "execution_count": 4,
      "outputs": []
    },
    {
      "cell_type": "code",
      "source": "weights = np.array([0.3, 0.4, 0.2, 0.1])\nmarks = np.array([7, 0, 8, 6])\n\nassert result_mark(weights, marks) == 4",
      "metadata": {
        "pycharm": {
          "name": "#%%\n"
        }
      },
      "execution_count": 5,
      "outputs": []
    },
    {
      "cell_type": "markdown",
      "source": "### Задание 2",
      "metadata": {}
    },
    {
      "cell_type": "markdown",
      "source": "Напишите функцию, меняющую каждое третье (начиная с 0) значение массива целых чисел на заданное число. Например, если на вход поступает массив `array([3, 5, 1, 0, -3, 22, 213436])` и число `-111`, то на выходе должен получиться массив `array([-111, 5, 1, -111, -3, 22, -111])`.",
      "metadata": {}
    },
    {
      "cell_type": "code",
      "source": "def change_array(array: np.array, number: int) -> np.array:\n    array[np.arange(0, len(array), 3)] = number\n    return array",
      "metadata": {
        "pycharm": {
          "name": "#%%\n"
        }
      },
      "execution_count": 6,
      "outputs": []
    },
    {
      "cell_type": "code",
      "source": "array = np.array([3, 5, 1, 0, -3, 22, 213436])\nnumber = -111\n\nassert np.allclose(change_array(array, number), np.array([-111, 5, 1, -111, -3, 22, -111]))",
      "metadata": {
        "pycharm": {
          "name": "#%%\n"
        }
      },
      "execution_count": 7,
      "outputs": []
    },
    {
      "cell_type": "code",
      "source": "array = np.array([3, 14, 15, 92, 6])\nnumber = 8\n\nassert np.allclose(change_array(array, number), np.array([8, 14, 15, 8, 6]))",
      "metadata": {
        "pycharm": {
          "name": "#%%\n"
        }
      },
      "execution_count": 8,
      "outputs": []
    },
    {
      "cell_type": "markdown",
      "source": "### Задание 3",
      "metadata": {}
    },
    {
      "cell_type": "markdown",
      "source": "Напишите функцию, выдающую индексы «близких» элементов заданных массивов, а именно тех пар элементов, чей модуль разницы не превосходит заданного значения. Например, если на вход поступают массив `array([1.5, 0.5, 2, -4.1, -3, 6, -1])`, массив `array([1.2, 0.5, 1, -4, 3, 0, -1.2])` и число `0.5`, то на выходе должен получиться массив `array([0, 1, 3, 6])` (**важно: не `tuple`, а одномерный массив типа `numpy.ndarray` (то есть `.ndim` от него равно 1)!**).",
      "metadata": {}
    },
    {
      "cell_type": "code",
      "source": "def find_close(array1: np.array, array2: np.array, precision: float) -> np.array:\n    ar = abs(array1 - array2)\n    res = np.array(np.asarray(ar <= precision).nonzero())[0]\n    return res",
      "metadata": {
        "pycharm": {
          "name": "#%%\n"
        }
      },
      "execution_count": 10,
      "outputs": []
    },
    {
      "cell_type": "code",
      "source": "array1 = np.array([1.5, 0.5, 2, -4.1, -3, 6, -1])\narray2 = np.array([1.2, 0.5, 1, -4.0,  3, 0, -1.2])\nprecision = 0.5\nres = find_close(array1, array2, precision)\n\nassert res.ndim == 1\nassert np.allclose(res, np.array([0, 1, 3, 6]))",
      "metadata": {
        "pycharm": {
          "name": "#%%\n"
        }
      },
      "execution_count": 11,
      "outputs": []
    },
    {
      "cell_type": "code",
      "source": "array1 = np.array([3.1415, 2.7182, 1.6180, 6.6261])\narray2 = np.array([6.6730, 1.3807, -1,     6.0222])\nprecision = 1.7\nres = find_close(array1, array2, precision)\n\nassert res.ndim == 1\nassert np.allclose(res, np.array([1, 3]))",
      "metadata": {
        "pycharm": {
          "name": "#%%\n"
        }
      },
      "execution_count": 12,
      "outputs": []
    },
    {
      "cell_type": "markdown",
      "source": "### Задание 4",
      "metadata": {}
    },
    {
      "cell_type": "markdown",
      "source": "Напишите функцию, которая составляет блочную матрицу из четырех блоков, где каждый блок - это заданная матрица. Например, если на вход поступает матрица\n$$\n\\begin{pmatrix}\n0 & 1 & 2\\\\\n3 & 4 & 5\\\\\n\\end{pmatrix},\n$$\nто ответом будет матрица\n$$\n\\begin{pmatrix}\n0 & 1 & 2 & 0 & 1 & 2\\\\\n3 & 4 & 5 & 3 & 4 & 5\\\\\n0 & 1 & 2 & 0 & 1 & 2\\\\\n3 & 4 & 5 & 3 & 4 & 5\\\\\n\\end{pmatrix}\n$$",
      "metadata": {}
    },
    {
      "cell_type": "code",
      "source": "def block_matrix(block: np.array) -> np.array:\n    j1 = np.concatenate((block, block), axis=1)\n    res = np.concatenate((j1, j1), axis=0)\n    return res",
      "metadata": {
        "pycharm": {
          "name": "#%%\n"
        }
      },
      "execution_count": 28,
      "outputs": []
    },
    {
      "cell_type": "code",
      "source": "block = np.array([[1, 3, 3], [7, 0, 0]])\nassert np.allclose(\n    block_matrix(block),\n    np.array([[1, 3, 3, 1, 3, 3],\n              [7, 0, 0, 7, 0, 0],\n              [1, 3, 3, 1, 3, 3],\n              [7, 0, 0, 7, 0, 0]])\n)",
      "metadata": {
        "pycharm": {
          "name": "#%%\n"
        }
      },
      "execution_count": 27,
      "outputs": [
        {
          "name": "stdout",
          "output_type": "stream",
          "text": "[[1 3 3 1 3 3]\n\n [7 0 0 7 0 0]\n\n [1 3 3 1 3 3]\n\n [7 0 0 7 0 0]]\n"
        }
      ]
    },
    {
      "cell_type": "markdown",
      "source": "### Задание 5",
      "metadata": {}
    },
    {
      "cell_type": "markdown",
      "source": "Напишите функцию, вычисляющую произведение всех ненулевых диагональных элементов на диагонали данной квадратной матрицы. Например, если на вход поступает матрица\n$$\n\\begin{pmatrix}\n0 & 1 & 2\\\\\n3 & 4 & 5\\\\\n6 & 7 & 8\\\\\n\\end{pmatrix},\n$$\nто ответом будет 32.\n\nЭлементы матрицы считать целочисленными.",
      "metadata": {}
    },
    {
      "cell_type": "code",
      "source": "def diag_prod(matrix: np.array) -> int:\n    a = np.eye(len(matrix)) * matrix\n    ar = np.prod(a[np.where(a != 0)])\n    print(ar)\n    return ar",
      "metadata": {
        "pycharm": {
          "name": "#%%\n"
        }
      },
      "execution_count": 29,
      "outputs": []
    },
    {
      "cell_type": "code",
      "source": "matrix = np.array([[0, 1, 2, 3],\n                   [4, 5, 6, 7],\n                   [8, 9, 10, 11],\n                   [12, 13, 14, 15]])\n\nassert diag_prod(matrix) == 750",
      "metadata": {
        "pycharm": {
          "name": "#%%\n"
        }
      },
      "execution_count": 30,
      "outputs": [
        {
          "name": "stdout",
          "output_type": "stream",
          "text": "750.0\n"
        }
      ]
    },
    {
      "cell_type": "markdown",
      "source": "### Задание 6",
      "metadata": {}
    },
    {
      "cell_type": "markdown",
      "source": "Для улучшения качества работы некоторых алгоритмов машинного обучения может быть полезно использовать [нормализацию данных](https://vk.cc/8xmfQk), чтобы привести признаки в выборке к одному масштабу — а именно, из каждого столбца вычесть среднее его значений и поделить на их стандартное отклонение. Напишите функцию, нормализующую входящую матрицу (по столбцам). Например, если на вход подается матрица \n$$\n\\begin{pmatrix}\n1 & 4 & 4200\\\\\n0 & 10 & 5000\\\\\n1 & 2 & 1000\\\\\n\\end{pmatrix},\n$$\nто результатом с точностью до сотых будет матрица\n$$\n\\begin{pmatrix}\n0.71 & -0.39 & 0.46\\\\\n-1.41 & 1.37 & 0.93\\\\\n0.71 & -0.98 & -1.39\\\\\n\\end{pmatrix}\n$$\n\nУчтите, что в вашем матрице не должно получаться никаких nan. Подумайте, в каком случае они могут возникнуть и как обойти эту проблему.\n\n_Подсказка. Казалось бы, при чем тут деление на ноль._",
      "metadata": {}
    },
    {
      "cell_type": "code",
      "source": "def normalize(a: np.array) -> np.array:\n    av = np.average(a, axis = 0)\n    std = np.std(a, axis = 0) + 1e-20 \n    a = (a - av)/std\n    print(a)\n    return a",
      "metadata": {
        "pycharm": {
          "name": "#%%\n"
        },
        "trusted": true
      },
      "execution_count": 16,
      "outputs": []
    },
    {
      "cell_type": "code",
      "source": "matrix = np.array([[1, 4, 4200], [0, 10, 5000], [1, 2, 1000]])\nnormalize(matrix)\nassert np.allclose(\n    normalize(matrix),\n    np.array([[ 0.7071, -0.39223,  0.46291],\n              [-1.4142,  1.37281,  0.92582],\n              [ 0.7071, -0.98058, -1.38873]])\n)",
      "metadata": {
        "pycharm": {
          "name": "#%%\n"
        },
        "trusted": true
      },
      "execution_count": 17,
      "outputs": [
        {
          "name": "stdout",
          "text": "[[ 0.70710678 -0.39223227  0.46291005]\n [-1.41421356  1.37281295  0.9258201 ]\n [ 0.70710678 -0.98058068 -1.38873015]]\n[[ 0.70710678 -0.39223227  0.46291005]\n [-1.41421356  1.37281295  0.9258201 ]\n [ 0.70710678 -0.98058068 -1.38873015]]\n",
          "output_type": "stream"
        }
      ]
    },
    {
      "cell_type": "code",
      "source": "matrix = np.array([[-7, 2, 42], [2, 10, 50], [5, 4, 10]])\n\nassert np.allclose(\n    normalize(matrix),\n    np.array([[-1.37281, -0.98058,  0.46291],\n              [ 0.39223,  1.37281,  0.92582],\n              [ 0.98058, -0.39223, -1.38873]])\n)",
      "metadata": {
        "pycharm": {
          "name": "#%%\n"
        },
        "trusted": true
      },
      "execution_count": 18,
      "outputs": [
        {
          "name": "stdout",
          "text": "[[-1.37281295 -0.98058068  0.46291005]\n [ 0.39223227  1.37281295  0.9258201 ]\n [ 0.98058068 -0.39223227 -1.38873015]]\n",
          "output_type": "stream"
        }
      ]
    },
    {
      "cell_type": "markdown",
      "source": "### Задание 7",
      "metadata": {}
    },
    {
      "cell_type": "markdown",
      "source": "Напишите функцию, вычисляющую какую-нибудь первообразную данного полинома (в качестве константы возьмите $0$). Например, если на вход поступает массив коэффициентов `array([4, 6, 0, 1])`, что соответствует полиному $4x^3 + 6x^2 + 1$, на выходе получается массив коэффициентов `array([1, 2, 0, 1, -2])`, соответствующий полиному $x^4 + 2x^3 + x - 2$.",
      "metadata": {}
    },
    {
      "cell_type": "code",
      "source": "def antiderivative(coefs: np.array) -> np.array:\n    a = np.arange(len(coefs), 0, -1)\n    return np.append(coefs / a, 0)",
      "metadata": {
        "pycharm": {
          "name": "#%%\n"
        },
        "trusted": true
      },
      "execution_count": 23,
      "outputs": []
    },
    {
      "cell_type": "code",
      "source": "coefs = np.array([4, 6, 0, 1])\n\nassert np.allclose(\n    antiderivative(coefs),\n    np.array([1., 2., 0., 1., 0.])\n)",
      "metadata": {
        "pycharm": {
          "name": "#%%\n"
        },
        "trusted": true
      },
      "execution_count": 27,
      "outputs": [
        {
          "name": "stdout",
          "text": "[4 3 2 1]\n",
          "output_type": "stream"
        }
      ]
    },
    {
      "cell_type": "code",
      "source": "coefs = np.array([1, 7, -12, 21, -6])\n\nassert np.allclose(\n    antiderivative(coefs),\n    np.array([ 0.2, 1.75, -4., 10.5, -6., 0.])\n)",
      "metadata": {
        "pycharm": {
          "name": "#%%\n"
        }
      },
      "execution_count": null,
      "outputs": []
    },
    {
      "cell_type": "markdown",
      "source": "### Задание 8",
      "metadata": {}
    },
    {
      "cell_type": "markdown",
      "source": "Напишите функцию, делающую данную [треугольную матрицу](https://ru.wikipedia.org/wiki/%D0%A2%D1%80%D0%B5%D1%83%D0%B3%D0%BE%D0%BB%D1%8C%D0%BD%D0%B0%D1%8F_%D0%BC%D0%B0%D1%82%D1%80%D0%B8%D1%86%D0%B0) симметричной. Например, если на вход поступает матрица\n$$\n\\begin{pmatrix}\n1 & 2 & 3 & 4\\\\\n0 & 5 & 6 & 7\\\\\n0 & 0 & 8 & 9\\\\\n0 & 0 & 0 & 10\\\\\n\\end{pmatrix},\n$$\nто на выходе должна быть матрица\n$$\n\\begin{pmatrix}\n1 & 2 & 3 & 4\\\\\n2 & 5 & 6 & 7\\\\\n3 & 6 & 8 & 9\\\\\n4 & 7 & 9 & 10\\\\\n\\end{pmatrix}.\n$$",
      "metadata": {}
    },
    {
      "cell_type": "code",
      "source": "def make_symmetric(a: np.array) -> np.array:\n    b = a.T - a * np.eye(len(a))\n    print(a + b)\n    return a + b",
      "metadata": {
        "pycharm": {
          "name": "#%%\n"
        }
      },
      "execution_count": 41,
      "outputs": []
    },
    {
      "cell_type": "code",
      "source": "matrix = np.array([[1, 2, 3, 4], [0, 5, 6, 7], [0, 0, 8, 9], [0, 0, 0, 10]])\n\nassert np.allclose(\n    make_symmetric(matrix),\n    np.array([[ 1,  2,  3,  4],\n              [ 2,  5,  6,  7],\n              [ 3,  6,  8,  9],\n              [ 4,  7,  9, 10]])\n)",
      "metadata": {
        "pycharm": {
          "name": "#%%\n"
        }
      },
      "execution_count": 42,
      "outputs": [
        {
          "name": "stdout",
          "output_type": "stream",
          "text": "[[ 1.  2.  3.  4.]\n\n [ 2.  5.  6.  7.]\n\n [ 3.  6.  8.  9.]\n\n [ 4.  7.  9. 10.]]\n"
        }
      ]
    },
    {
      "cell_type": "code",
      "source": "matrix = np.array([[10, 21, 32, 49], [0, 53, 62, 78], [0, 0, 82, 92], [0, 0, 0, 10]])\n\nassert np.allclose(\n    make_symmetric(matrix),\n    np.array([[10, 21, 32, 49],\n              [21, 53, 62, 78],\n              [32, 62, 82, 92],\n              [49, 78, 92, 10]])\n)",
      "metadata": {
        "pycharm": {
          "name": "#%%\n"
        }
      },
      "execution_count": 43,
      "outputs": [
        {
          "name": "stdout",
          "output_type": "stream",
          "text": "[[10. 21. 32. 49.]\n\n [21. 53. 62. 78.]\n\n [32. 62. 82. 92.]\n\n [49. 78. 92. 10.]]\n"
        }
      ]
    },
    {
      "cell_type": "markdown",
      "source": "### Задание 9",
      "metadata": {}
    },
    {
      "cell_type": "markdown",
      "source": "Напишите функцию, создающую прямоугольную матрицу из m одинаковых строк, заполненных последовательными натуральными числами от a до b включительно в возрастающем порядке. Например, если m = 5, a = 3, b = 10, то на выходе будет матрица\n$$\n\\begin{pmatrix}\n3 & 4 & 5 & 6 & 7 & 8 & 9 & 10\\\\\n3 & 4 & 5 & 6 & 7 & 8 & 9 & 10\\\\\n3 & 4 & 5 & 6 & 7 & 8 & 9 & 10\\\\\n3 & 4 & 5 & 6 & 7 & 8 & 9 & 10\\\\\n3 & 4 & 5 & 6 & 7 & 8 & 9 & 10\\\\\n\\end{pmatrix}\n$$",
      "metadata": {}
    },
    {
      "cell_type": "code",
      "source": "def construct_matrix(m: int, a: int, b: int) -> np.array:\n    # your code here",
      "metadata": {
        "pycharm": {
          "name": "#%%\n"
        }
      },
      "execution_count": null,
      "outputs": []
    },
    {
      "cell_type": "code",
      "source": "m = 5\na = 3\nb = 10\n\nassert np.allclose(\n    construct_matrix(m, a, b),\n    np.array([[ 3,  4,  5,  6,  7,  8,  9, 10],\n              [ 3,  4,  5,  6,  7,  8,  9, 10],\n              [ 3,  4,  5,  6,  7,  8,  9, 10],\n              [ 3,  4,  5,  6,  7,  8,  9, 10],\n              [ 3,  4,  5,  6,  7,  8,  9, 10]])\n)",
      "metadata": {
        "pycharm": {
          "name": "#%%\n"
        }
      },
      "execution_count": null,
      "outputs": []
    },
    {
      "cell_type": "code",
      "source": "m = 3\na = 2\nb = 6\n\nassert np.allclose(\n    construct_matrix(m, a, b),\n    np.array([[2, 3, 4, 5, 6],\n              [2, 3, 4, 5, 6],\n              [2, 3, 4, 5, 6]])\n)",
      "metadata": {
        "pycharm": {
          "name": "#%%\n"
        }
      },
      "execution_count": null,
      "outputs": []
    },
    {
      "cell_type": "markdown",
      "source": "### Задание 10",
      "metadata": {}
    },
    {
      "cell_type": "markdown",
      "source": "Напишите функцию, вычисляющую [косинусную близость](https://en.wikipedia.org/wiki/Cosine_similarity) двух векторов. Например, если на вход поступают вектора `array([-2, 1, 0, -5, 4, 3, -3])` и `array([0, 2, -2, 10, 6, 0, 0])`, ответом будет -0.25.",
      "metadata": {}
    },
    {
      "cell_type": "code",
      "source": "def cosine_similarity(a: np.array, b: np.array) -> float:\n    res = np.sum(a*b)/np.sqrt((np.sum(a*a) * np.sum(b*b)))\n    print(res)\n    return res",
      "metadata": {
        "pycharm": {
          "name": "#%%\n"
        }
      },
      "execution_count": 36,
      "outputs": []
    },
    {
      "cell_type": "code",
      "source": "vec1 = np.array([-2, 1,  0, -5, 4, 3, -3])\nvec2 = np.array([ 0, 2, -2, 10, 6, 0,  0])\n\nassert np.allclose(cosine_similarity(vec1, vec2), -0.25)",
      "metadata": {
        "pycharm": {
          "name": "#%%\n"
        }
      },
      "execution_count": 37,
      "outputs": [
        {
          "name": "stdout",
          "output_type": "stream",
          "text": "-0.25\n"
        }
      ]
    },
    {
      "cell_type": "code",
      "source": "vec1 = np.array([-4, 2,  9, -8, 9, 0, -2])\nvec2 = np.array([ 3, 2, -4, -1, 3, 2,  2])\n\nassert np.allclose(cosine_similarity(vec1, vec2), -0.119929)",
      "metadata": {
        "pycharm": {
          "name": "#%%\n"
        }
      },
      "execution_count": 38,
      "outputs": [
        {
          "name": "stdout",
          "output_type": "stream",
          "text": "-0.11992905704375506\n"
        }
      ]
    }
  ]
}