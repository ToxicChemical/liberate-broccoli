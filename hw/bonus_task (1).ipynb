{
  "metadata": {
    "kernelspec": {
      "name": "python",
      "display_name": "Python (Pyodide)",
      "language": "python"
    },
    "language_info": {
      "codemirror_mode": {
        "name": "python",
        "version": 3
      },
      "file_extension": ".py",
      "mimetype": "text/x-python",
      "name": "python",
      "nbconvert_exporter": "python",
      "pygments_lexer": "ipython3",
      "version": "3.8"
    }
  },
  "nbformat_minor": 4,
  "nbformat": 4,
  "cells": [
    {
      "cell_type": "markdown",
      "source": "# Бонусное домашнее задание (pandas).",
      "metadata": {
        "_uuid": "21c25e4f8bb31570029fd6b069131a5d00f84cf1"
      }
    },
    {
      "cell_type": "code",
      "source": "import pandas as pd",
      "metadata": {
        "_uuid": "568eb2d31004b87d22e119112ae01a1e75105f1d"
      },
      "execution_count": 1,
      "outputs": []
    },
    {
      "cell_type": "markdown",
      "source": "#### Описание данных\n\nВ папке Data находится информация о студентах. Всего 10 групп студентов. Файлы делятся на две категории:\n    * Students_info_i - информация о студентах из группы i\n    * Students_marks_i - оценки студентов из группы i за экзамены",
      "metadata": {}
    },
    {
      "cell_type": "markdown",
      "source": "### Одно из важных достоинств pandas $-$ это удобные методы реляционного взаимодействия с данными, аналогичные, например, возможностям SQL для слияния и конкатенации таблиц: merge, join, concat. Наличие готовых методов позволяет не реализовывать самостоятельно поэлементную обработку данных и оперировать сразу целыми таблицами данных.\n\nПодробно об этих методах посмотрите тут: https://www.kaggle.com/residentmario/renaming-and-combining#Combining",
      "metadata": {}
    },
    {
      "cell_type": "markdown",
      "source": "#### Задание 1. Соберите всю информацию о студентах в одну таблицу df. В получившейся таблице должна быть информация и оценки всех студентов из всех групп. Напечатайте несколько строк таблицы для демонстрации результата.¶",
      "metadata": {}
    },
    {
      "cell_type": "code",
      "source": "import pandas as pd\na1 = []\na2 = []\nfor i in range(10):\n    s1 = \"Students_info_\" + str(i) + \".csv\"\n    # s2 = \"../Data/Students_marks_\" + str(i)\n    a1.append(pd.read_csv(s1))\n    s2 = \"Students_marks_\" + str(i) + \".csv\"\n    a2.append(pd.read_csv(s2))\ndf1 = pd.concat(a1, ignore_index=True)\ndf2 = pd.concat(a2, ignore_index=True)\n# df1.head()\n# df2.head()\ndf = pd.merge(df1, df2, how = 'outer', on = 'index')\nprint(df.shape)\ndf.head()",
      "metadata": {
        "trusted": true
      },
      "execution_count": 9,
      "outputs": [
        {
          "name": "stdout",
          "text": "(1000, 10)\n",
          "output_type": "stream"
        },
        {
          "execution_count": 9,
          "output_type": "execute_result",
          "data": {
            "text/plain": "   index  gender race/ethnicity parental level of education         lunch  \\\n0      0  female        group B           bachelor's degree      standard   \n1      1  female        group C                some college      standard   \n2      2  female        group B             master's degree      standard   \n3      3    male        group A          associate's degree  free/reduced   \n4      4    male        group C                some college      standard   \n\n  test preparation course   group  math score  reading score  writing score  \n0                    none  group1          72             72             74  \n1               completed  group1          69             90             88  \n2                    none  group1          90             95             93  \n3                    none  group1          47             57             44  \n4                    none  group1          76             78             75  ",
            "text/html": "<div>\n<style scoped>\n    .dataframe tbody tr th:only-of-type {\n        vertical-align: middle;\n    }\n\n    .dataframe tbody tr th {\n        vertical-align: top;\n    }\n\n    .dataframe thead th {\n        text-align: right;\n    }\n</style>\n<table border=\"1\" class=\"dataframe\">\n  <thead>\n    <tr style=\"text-align: right;\">\n      <th></th>\n      <th>index</th>\n      <th>gender</th>\n      <th>race/ethnicity</th>\n      <th>parental level of education</th>\n      <th>lunch</th>\n      <th>test preparation course</th>\n      <th>group</th>\n      <th>math score</th>\n      <th>reading score</th>\n      <th>writing score</th>\n    </tr>\n  </thead>\n  <tbody>\n    <tr>\n      <th>0</th>\n      <td>0</td>\n      <td>female</td>\n      <td>group B</td>\n      <td>bachelor's degree</td>\n      <td>standard</td>\n      <td>none</td>\n      <td>group1</td>\n      <td>72</td>\n      <td>72</td>\n      <td>74</td>\n    </tr>\n    <tr>\n      <th>1</th>\n      <td>1</td>\n      <td>female</td>\n      <td>group C</td>\n      <td>some college</td>\n      <td>standard</td>\n      <td>completed</td>\n      <td>group1</td>\n      <td>69</td>\n      <td>90</td>\n      <td>88</td>\n    </tr>\n    <tr>\n      <th>2</th>\n      <td>2</td>\n      <td>female</td>\n      <td>group B</td>\n      <td>master's degree</td>\n      <td>standard</td>\n      <td>none</td>\n      <td>group1</td>\n      <td>90</td>\n      <td>95</td>\n      <td>93</td>\n    </tr>\n    <tr>\n      <th>3</th>\n      <td>3</td>\n      <td>male</td>\n      <td>group A</td>\n      <td>associate's degree</td>\n      <td>free/reduced</td>\n      <td>none</td>\n      <td>group1</td>\n      <td>47</td>\n      <td>57</td>\n      <td>44</td>\n    </tr>\n    <tr>\n      <th>4</th>\n      <td>4</td>\n      <td>male</td>\n      <td>group C</td>\n      <td>some college</td>\n      <td>standard</td>\n      <td>none</td>\n      <td>group1</td>\n      <td>76</td>\n      <td>78</td>\n      <td>75</td>\n    </tr>\n  </tbody>\n</table>\n</div>"
          },
          "metadata": {}
        }
      ]
    },
    {
      "cell_type": "markdown",
      "source": "#### Задание 2. Удалите столбец index у полученной таблицы. Напечатайте первые 10 строк таблицы.",
      "metadata": {
        "_uuid": "8524af4cbd2f7b7810e8a3095a74c9fe1df7eafa"
      }
    },
    {
      "cell_type": "code",
      "source": "df = df.drop('index', axis=1)",
      "metadata": {
        "_uuid": "fe62eee87b9b94ab923f57b55eaf0554612aa9e9",
        "scrolled": true,
        "trusted": true
      },
      "execution_count": 10,
      "outputs": []
    },
    {
      "cell_type": "code",
      "source": "df.iloc[:10]",
      "metadata": {
        "trusted": true
      },
      "execution_count": 11,
      "outputs": [
        {
          "execution_count": 11,
          "output_type": "execute_result",
          "data": {
            "text/plain": "   gender race/ethnicity parental level of education         lunch  \\\n0  female        group B           bachelor's degree      standard   \n1  female        group C                some college      standard   \n2  female        group B             master's degree      standard   \n3    male        group A          associate's degree  free/reduced   \n4    male        group C                some college      standard   \n5  female        group B          associate's degree      standard   \n6  female        group B                some college      standard   \n7    male        group B                some college  free/reduced   \n8    male        group D                 high school  free/reduced   \n9  female        group B                 high school  free/reduced   \n\n  test preparation course   group  math score  reading score  writing score  \n0                    none  group1          72             72             74  \n1               completed  group1          69             90             88  \n2                    none  group1          90             95             93  \n3                    none  group1          47             57             44  \n4                    none  group1          76             78             75  \n5                    none  group1          71             83             78  \n6               completed  group1          88             95             92  \n7                    none  group1          40             43             39  \n8               completed  group1          64             64             67  \n9                    none  group1          38             60             50  ",
            "text/html": "<div>\n<style scoped>\n    .dataframe tbody tr th:only-of-type {\n        vertical-align: middle;\n    }\n\n    .dataframe tbody tr th {\n        vertical-align: top;\n    }\n\n    .dataframe thead th {\n        text-align: right;\n    }\n</style>\n<table border=\"1\" class=\"dataframe\">\n  <thead>\n    <tr style=\"text-align: right;\">\n      <th></th>\n      <th>gender</th>\n      <th>race/ethnicity</th>\n      <th>parental level of education</th>\n      <th>lunch</th>\n      <th>test preparation course</th>\n      <th>group</th>\n      <th>math score</th>\n      <th>reading score</th>\n      <th>writing score</th>\n    </tr>\n  </thead>\n  <tbody>\n    <tr>\n      <th>0</th>\n      <td>female</td>\n      <td>group B</td>\n      <td>bachelor's degree</td>\n      <td>standard</td>\n      <td>none</td>\n      <td>group1</td>\n      <td>72</td>\n      <td>72</td>\n      <td>74</td>\n    </tr>\n    <tr>\n      <th>1</th>\n      <td>female</td>\n      <td>group C</td>\n      <td>some college</td>\n      <td>standard</td>\n      <td>completed</td>\n      <td>group1</td>\n      <td>69</td>\n      <td>90</td>\n      <td>88</td>\n    </tr>\n    <tr>\n      <th>2</th>\n      <td>female</td>\n      <td>group B</td>\n      <td>master's degree</td>\n      <td>standard</td>\n      <td>none</td>\n      <td>group1</td>\n      <td>90</td>\n      <td>95</td>\n      <td>93</td>\n    </tr>\n    <tr>\n      <th>3</th>\n      <td>male</td>\n      <td>group A</td>\n      <td>associate's degree</td>\n      <td>free/reduced</td>\n      <td>none</td>\n      <td>group1</td>\n      <td>47</td>\n      <td>57</td>\n      <td>44</td>\n    </tr>\n    <tr>\n      <th>4</th>\n      <td>male</td>\n      <td>group C</td>\n      <td>some college</td>\n      <td>standard</td>\n      <td>none</td>\n      <td>group1</td>\n      <td>76</td>\n      <td>78</td>\n      <td>75</td>\n    </tr>\n    <tr>\n      <th>5</th>\n      <td>female</td>\n      <td>group B</td>\n      <td>associate's degree</td>\n      <td>standard</td>\n      <td>none</td>\n      <td>group1</td>\n      <td>71</td>\n      <td>83</td>\n      <td>78</td>\n    </tr>\n    <tr>\n      <th>6</th>\n      <td>female</td>\n      <td>group B</td>\n      <td>some college</td>\n      <td>standard</td>\n      <td>completed</td>\n      <td>group1</td>\n      <td>88</td>\n      <td>95</td>\n      <td>92</td>\n    </tr>\n    <tr>\n      <th>7</th>\n      <td>male</td>\n      <td>group B</td>\n      <td>some college</td>\n      <td>free/reduced</td>\n      <td>none</td>\n      <td>group1</td>\n      <td>40</td>\n      <td>43</td>\n      <td>39</td>\n    </tr>\n    <tr>\n      <th>8</th>\n      <td>male</td>\n      <td>group D</td>\n      <td>high school</td>\n      <td>free/reduced</td>\n      <td>completed</td>\n      <td>group1</td>\n      <td>64</td>\n      <td>64</td>\n      <td>67</td>\n    </tr>\n    <tr>\n      <th>9</th>\n      <td>female</td>\n      <td>group B</td>\n      <td>high school</td>\n      <td>free/reduced</td>\n      <td>none</td>\n      <td>group1</td>\n      <td>38</td>\n      <td>60</td>\n      <td>50</td>\n    </tr>\n  </tbody>\n</table>\n</div>"
          },
          "metadata": {}
        }
      ]
    },
    {
      "cell_type": "markdown",
      "source": "#### Задание 3. Выведите на экран размеры полученной таблицы",
      "metadata": {
        "_uuid": "5fcd622942b7ecfc318934c6a245d3bb3bf01e84"
      }
    },
    {
      "cell_type": "code",
      "source": "df.shape",
      "metadata": {
        "_uuid": "16281cd7b4e941ebed8ca2e1b42f62f55d838684",
        "trusted": true
      },
      "execution_count": 12,
      "outputs": [
        {
          "execution_count": 12,
          "output_type": "execute_result",
          "data": {
            "text/plain": "(1000, 9)"
          },
          "metadata": {}
        }
      ]
    },
    {
      "cell_type": "markdown",
      "source": "#### Задание 4. Выведите на экран статистические характеристики числовых столбцов таблицы (минимум, максимум, среднее значение, стандартное отклонение)",
      "metadata": {
        "_uuid": "fe8e3d58d29ca25dbbcf001392377643e6ff9a36"
      }
    },
    {
      "cell_type": "code",
      "source": "df.describe()",
      "metadata": {
        "_uuid": "e3d4bb80d2c4251fe517c24fcf08c5ff2d67b8aa",
        "trusted": true
      },
      "execution_count": 13,
      "outputs": [
        {
          "execution_count": 13,
          "output_type": "execute_result",
          "data": {
            "text/plain": "       math score  reading score  writing score\ncount  1000.00000    1000.000000    1000.000000\nmean     66.08900      69.169000      68.054000\nstd      15.16308      14.600192      15.195657\nmin       0.00000      17.000000      10.000000\n25%      57.00000      59.000000      57.750000\n50%      66.00000      70.000000      69.000000\n75%      77.00000      79.000000      79.000000\nmax     100.00000     100.000000     100.000000",
            "text/html": "<div>\n<style scoped>\n    .dataframe tbody tr th:only-of-type {\n        vertical-align: middle;\n    }\n\n    .dataframe tbody tr th {\n        vertical-align: top;\n    }\n\n    .dataframe thead th {\n        text-align: right;\n    }\n</style>\n<table border=\"1\" class=\"dataframe\">\n  <thead>\n    <tr style=\"text-align: right;\">\n      <th></th>\n      <th>math score</th>\n      <th>reading score</th>\n      <th>writing score</th>\n    </tr>\n  </thead>\n  <tbody>\n    <tr>\n      <th>count</th>\n      <td>1000.00000</td>\n      <td>1000.000000</td>\n      <td>1000.000000</td>\n    </tr>\n    <tr>\n      <th>mean</th>\n      <td>66.08900</td>\n      <td>69.169000</td>\n      <td>68.054000</td>\n    </tr>\n    <tr>\n      <th>std</th>\n      <td>15.16308</td>\n      <td>14.600192</td>\n      <td>15.195657</td>\n    </tr>\n    <tr>\n      <th>min</th>\n      <td>0.00000</td>\n      <td>17.000000</td>\n      <td>10.000000</td>\n    </tr>\n    <tr>\n      <th>25%</th>\n      <td>57.00000</td>\n      <td>59.000000</td>\n      <td>57.750000</td>\n    </tr>\n    <tr>\n      <th>50%</th>\n      <td>66.00000</td>\n      <td>70.000000</td>\n      <td>69.000000</td>\n    </tr>\n    <tr>\n      <th>75%</th>\n      <td>77.00000</td>\n      <td>79.000000</td>\n      <td>79.000000</td>\n    </tr>\n    <tr>\n      <th>max</th>\n      <td>100.00000</td>\n      <td>100.000000</td>\n      <td>100.000000</td>\n    </tr>\n  </tbody>\n</table>\n</div>"
          },
          "metadata": {}
        }
      ]
    },
    {
      "cell_type": "markdown",
      "source": "#### Задание 5. Проверьте, есть ли в таблице пропущенные значения",
      "metadata": {
        "_uuid": "b26b7de83485ecb3b8a0a7865a596e24527c7b2f"
      }
    },
    {
      "cell_type": "code",
      "source": "df.isnull().values.any()",
      "metadata": {
        "_uuid": "4eac3f8f83d07c6e58ad1576fe0e773f37034a2f",
        "trusted": true
      },
      "execution_count": 14,
      "outputs": [
        {
          "execution_count": 14,
          "output_type": "execute_result",
          "data": {
            "text/plain": "False"
          },
          "metadata": {}
        }
      ]
    },
    {
      "cell_type": "markdown",
      "source": "#### Задание 6. Выведите на экран средние баллы студентов по каждому предмету (math, reading, writing)",
      "metadata": {}
    },
    {
      "cell_type": "code",
      "source": "print(df['math score'].mean(), df['reading score'].mean(), df['writing score'].mean())",
      "metadata": {
        "trusted": true
      },
      "execution_count": 23,
      "outputs": [
        {
          "name": "stdout",
          "text": "66.089 69.169 68.054\n",
          "output_type": "stream"
        }
      ]
    },
    {
      "cell_type": "markdown",
      "source": "**Задание 7. Как зависят оценки от того, проходил ли студент курс для подготовки к сдаче экзамена (test preparation course)? Выведите на экран для каждого предмета в отдельности средний балл студентов, проходивших курс для подготовки к экзамену и не проходивших курс.**",
      "metadata": {}
    },
    {
      "cell_type": "code",
      "source": "print(df.groupby(\"test preparation course\")['math score'].apply(lambda x: x.mean()), end = '\\n\\n')\nprint(df.groupby(\"test preparation course\")['reading score'].apply(lambda x: x.mean()), end = '\\n\\n')\nprint(df.groupby(\"test preparation course\")['writing score'].apply(lambda x: x.mean()))",
      "metadata": {
        "trusted": true
      },
      "execution_count": 22,
      "outputs": [
        {
          "name": "stdout",
          "text": "test preparation course\ncompleted    69.695531\nnone         64.077882\nName: math score, dtype: float64\n\ntest preparation course\ncompleted    73.893855\nnone         66.534268\nName: reading score, dtype: float64\n\ntest preparation course\ncompleted    74.418994\nnone         64.504673\nName: writing score, dtype: float64\n",
          "output_type": "stream"
        }
      ]
    },
    {
      "cell_type": "markdown",
      "source": "**Задание 8. Выведите на экран все различные значения из столбца lunch.**",
      "metadata": {}
    },
    {
      "cell_type": "code",
      "source": "set(df[\"lunch\"])",
      "metadata": {
        "trusted": true
      },
      "execution_count": 24,
      "outputs": [
        {
          "execution_count": 24,
          "output_type": "execute_result",
          "data": {
            "text/plain": "{'free/reduced', 'standard'}"
          },
          "metadata": {}
        }
      ]
    },
    {
      "cell_type": "markdown",
      "source": "**Задание 9. Переименуйте колонку \"parental level of education\" в \"education\", а \"test preparation course\" в \"test preparation\" с помощью метода pandas rename**\nhttps://pandas.pydata.org/pandas-docs/stable/reference/api/pandas.DataFrame.rename.html",
      "metadata": {}
    },
    {
      "cell_type": "code",
      "source": "df.rename(columns = {'parental level of education': 'education'}, inplace = True)\ndf.rename(columns = {'test preparation course': 'test preparation'}, inplace = True)",
      "metadata": {
        "trusted": true
      },
      "execution_count": 25,
      "outputs": []
    },
    {
      "cell_type": "code",
      "source": "df.head()",
      "metadata": {
        "trusted": true
      },
      "execution_count": 26,
      "outputs": [
        {
          "execution_count": 26,
          "output_type": "execute_result",
          "data": {
            "text/plain": "   gender race/ethnicity           education         lunch test preparation  \\\n0  female        group B   bachelor's degree      standard             none   \n1  female        group C        some college      standard        completed   \n2  female        group B     master's degree      standard             none   \n3    male        group A  associate's degree  free/reduced             none   \n4    male        group C        some college      standard             none   \n\n    group  math score  reading score  writing score  \n0  group1          72             72             74  \n1  group1          69             90             88  \n2  group1          90             95             93  \n3  group1          47             57             44  \n4  group1          76             78             75  ",
            "text/html": "<div>\n<style scoped>\n    .dataframe tbody tr th:only-of-type {\n        vertical-align: middle;\n    }\n\n    .dataframe tbody tr th {\n        vertical-align: top;\n    }\n\n    .dataframe thead th {\n        text-align: right;\n    }\n</style>\n<table border=\"1\" class=\"dataframe\">\n  <thead>\n    <tr style=\"text-align: right;\">\n      <th></th>\n      <th>gender</th>\n      <th>race/ethnicity</th>\n      <th>education</th>\n      <th>lunch</th>\n      <th>test preparation</th>\n      <th>group</th>\n      <th>math score</th>\n      <th>reading score</th>\n      <th>writing score</th>\n    </tr>\n  </thead>\n  <tbody>\n    <tr>\n      <th>0</th>\n      <td>female</td>\n      <td>group B</td>\n      <td>bachelor's degree</td>\n      <td>standard</td>\n      <td>none</td>\n      <td>group1</td>\n      <td>72</td>\n      <td>72</td>\n      <td>74</td>\n    </tr>\n    <tr>\n      <th>1</th>\n      <td>female</td>\n      <td>group C</td>\n      <td>some college</td>\n      <td>standard</td>\n      <td>completed</td>\n      <td>group1</td>\n      <td>69</td>\n      <td>90</td>\n      <td>88</td>\n    </tr>\n    <tr>\n      <th>2</th>\n      <td>female</td>\n      <td>group B</td>\n      <td>master's degree</td>\n      <td>standard</td>\n      <td>none</td>\n      <td>group1</td>\n      <td>90</td>\n      <td>95</td>\n      <td>93</td>\n    </tr>\n    <tr>\n      <th>3</th>\n      <td>male</td>\n      <td>group A</td>\n      <td>associate's degree</td>\n      <td>free/reduced</td>\n      <td>none</td>\n      <td>group1</td>\n      <td>47</td>\n      <td>57</td>\n      <td>44</td>\n    </tr>\n    <tr>\n      <th>4</th>\n      <td>male</td>\n      <td>group C</td>\n      <td>some college</td>\n      <td>standard</td>\n      <td>none</td>\n      <td>group1</td>\n      <td>76</td>\n      <td>78</td>\n      <td>75</td>\n    </tr>\n  </tbody>\n</table>\n</div>"
          },
          "metadata": {}
        }
      ]
    },
    {
      "cell_type": "markdown",
      "source": "**Зафиксируем минимальный балл для сдачи экзамена**",
      "metadata": {}
    },
    {
      "cell_type": "code",
      "source": "passmark = 50",
      "metadata": {
        "trusted": true
      },
      "execution_count": 27,
      "outputs": []
    },
    {
      "cell_type": "markdown",
      "source": "**Задание 10. Ответьте на вопросы:**\n    * Какая доля студентов сдала экзамен по математике (passmark >= 50)?\n    * Какая доля студентов, проходивших курс подготовки к экзамену, сдала экзамен по математике?\n    * Какая доля женщин, не проходивших курс подготовки к экзамену, не сдала экзамен по математике? ",
      "metadata": {}
    },
    {
      "cell_type": "code",
      "source": "((df['math score'] >= passmark).astype(int)).mean()",
      "metadata": {
        "trusted": true
      },
      "execution_count": 28,
      "outputs": [
        {
          "execution_count": 28,
          "output_type": "execute_result",
          "data": {
            "text/plain": "0.865"
          },
          "metadata": {}
        }
      ]
    },
    {
      "cell_type": "markdown",
      "source": "**Задание 11. С помощью groupby выполните задания ниже. Также выведите время выполнения каждого из заданий.**\n    * Для каждой этнической группы выведите средний балл за экзамен по чтению\n    * Для каждого уровня образования выведите минимальный балл за экзамен по письму",
      "metadata": {}
    },
    {
      "cell_type": "code",
      "source": "%%time\nprint(df.groupby(\"race/ethnicity\")['reading score'].apply(lambda x : x.mean()), end = '\\n\\n')\nprint(df.groupby(\"education\")['writing score'].apply(lambda x : x.min()))",
      "metadata": {
        "trusted": true
      },
      "execution_count": 29,
      "outputs": [
        {
          "name": "stdout",
          "text": "race/ethnicity\ngroup A    64.674157\ngroup B    67.352632\ngroup C    69.103448\ngroup D    70.030534\ngroup E    73.028571\nName: reading score, dtype: float64\n\neducation\nassociate's degree    35\nbachelor's degree     38\nhigh school           15\nmaster's degree       46\nsome college          19\nsome high school      10\nName: writing score, dtype: int64\nCPU times: user 0 ns, sys: 0 ns, total: 0 ns\nWall time: 19 ms\n",
          "output_type": "stream"
        }
      ]
    },
    {
      "cell_type": "markdown",
      "source": "**Задание 12. Выполните задание 11 с помощью циклов. Сравните время выполнения.**",
      "metadata": {}
    },
    {
      "cell_type": "code",
      "source": "%%time\nsm = {}\ncn = {}\nn = len(df['reading score'])\nfor i in range(len(df['reading score'])):\n    race = df['race/ethnicity'][i]\n    sc = int(df['reading score'][i])\n    if race in sm:\n        sm[race] += sc\n    else :\n        sm[race] = sc\n    if race in cn:\n        cn[race] += 1\n    else :\n        cn[race] = 1\nser1 = pd.Series(data=sm)\nser2 = pd.Series(data=cn)\nres = ser1/ser2\nprint(res.sort_values(), end = \"\\n\\n\")\n\nsm = {}\nn = len(df['writing score'])\nfor i in range(len(df['writing score'])):\n    race = df['education'][i]\n    sc = int(df['writing score'][i])\n    if race in sm:\n        sm[race] = min(sm[race], sc)\n    else :\n        sm[race] = sc\nser1 = pd.Series(data=sm)\nprint(ser1.sort_index(), end = \"\\n\\n\")",
      "metadata": {
        "trusted": true
      },
      "execution_count": 30,
      "outputs": [
        {
          "name": "stdout",
          "text": "group A    64.674157\ngroup B    67.352632\ngroup C    69.103448\ngroup D    70.030534\ngroup E    73.028571\ndtype: float64\n\nassociate's degree    35\nbachelor's degree     38\nhigh school           15\nmaster's degree       46\nsome college          19\nsome high school      10\ndtype: int64\n\nCPU times: user 0 ns, sys: 0 ns, total: 0 ns\nWall time: 201 ms\n",
          "output_type": "stream"
        }
      ]
    },
    {
      "cell_type": "markdown",
      "source": "**Задание 13. Выведите на экран средние баллы студентов по каждому предмету в зависимости от пола и уровня образования. То есть должно получиться количество групп, равных 2 * (число уровней образования), и для каждой такой группы выыведите средний балл по каждому из предметов.**\n\nЭто можно сделать с помощью сводных таблиц (pivot_table):\n\nhttps://www.kaggle.com/kamilpolak/tutorial-how-to-use-pivot-table-in-pandas",
      "metadata": {}
    },
    {
      "cell_type": "code",
      "source": "import numpy as np\n\npd.pivot_table(df, index=['gender', 'education'], values=['reading score'], aggfunc=np.mean)",
      "metadata": {
        "trusted": true
      },
      "execution_count": 31,
      "outputs": [
        {
          "execution_count": 31,
          "output_type": "execute_result",
          "data": {
            "text/plain": "                           reading score\ngender education                        \nfemale associate's degree      74.120690\n       bachelor's degree       77.285714\n       high school             68.202128\n       master's degree         76.805556\n       some college            73.550847\n       some high school        69.109890\nmale   associate's degree      67.433962\n       bachelor's degree       68.090909\n       high school             61.480392\n       master's degree         73.130435\n       some college            64.990741\n       some high school        64.693182",
            "text/html": "<div>\n<style scoped>\n    .dataframe tbody tr th:only-of-type {\n        vertical-align: middle;\n    }\n\n    .dataframe tbody tr th {\n        vertical-align: top;\n    }\n\n    .dataframe thead th {\n        text-align: right;\n    }\n</style>\n<table border=\"1\" class=\"dataframe\">\n  <thead>\n    <tr style=\"text-align: right;\">\n      <th></th>\n      <th></th>\n      <th>reading score</th>\n    </tr>\n    <tr>\n      <th>gender</th>\n      <th>education</th>\n      <th></th>\n    </tr>\n  </thead>\n  <tbody>\n    <tr>\n      <th rowspan=\"6\" valign=\"top\">female</th>\n      <th>associate's degree</th>\n      <td>74.120690</td>\n    </tr>\n    <tr>\n      <th>bachelor's degree</th>\n      <td>77.285714</td>\n    </tr>\n    <tr>\n      <th>high school</th>\n      <td>68.202128</td>\n    </tr>\n    <tr>\n      <th>master's degree</th>\n      <td>76.805556</td>\n    </tr>\n    <tr>\n      <th>some college</th>\n      <td>73.550847</td>\n    </tr>\n    <tr>\n      <th>some high school</th>\n      <td>69.109890</td>\n    </tr>\n    <tr>\n      <th rowspan=\"6\" valign=\"top\">male</th>\n      <th>associate's degree</th>\n      <td>67.433962</td>\n    </tr>\n    <tr>\n      <th>bachelor's degree</th>\n      <td>68.090909</td>\n    </tr>\n    <tr>\n      <th>high school</th>\n      <td>61.480392</td>\n    </tr>\n    <tr>\n      <th>master's degree</th>\n      <td>73.130435</td>\n    </tr>\n    <tr>\n      <th>some college</th>\n      <td>64.990741</td>\n    </tr>\n    <tr>\n      <th>some high school</th>\n      <td>64.693182</td>\n    </tr>\n  </tbody>\n</table>\n</div>"
          },
          "metadata": {}
        }
      ]
    },
    {
      "cell_type": "markdown",
      "source": "#### Задание 14. Сколько студентов успешно сдали экзамен по математике?\n\nСоздайте новый столбец в таблице df под названием Math_PassStatus и запишите в него F, если студент не сдал экзамен по математике (балл за экзамен < passmark), и P иначе.\n\nПосчитайте количество студентов, сдавших и не сдавших экзамен по математике.\n\nСделайте аналогичные шаги для экзаменов по чтению и письму.",
      "metadata": {
        "_uuid": "3e832cb427c4314582d1953a41b8c78db75e30e3"
      }
    },
    {
      "cell_type": "code",
      "source": "df['Math_PassStatus'] = df['math score'].apply(lambda x : 'F' if x < passmark else 'T')\ndf.head()",
      "metadata": {
        "_uuid": "f43cddb72cc96b30df84bc0de83a4d9170904340",
        "scrolled": true,
        "trusted": true
      },
      "execution_count": 32,
      "outputs": [
        {
          "execution_count": 32,
          "output_type": "execute_result",
          "data": {
            "text/plain": "   gender race/ethnicity           education         lunch test preparation  \\\n0  female        group B   bachelor's degree      standard             none   \n1  female        group C        some college      standard        completed   \n2  female        group B     master's degree      standard             none   \n3    male        group A  associate's degree  free/reduced             none   \n4    male        group C        some college      standard             none   \n\n    group  math score  reading score  writing score Math_PassStatus  \n0  group1          72             72             74               T  \n1  group1          69             90             88               T  \n2  group1          90             95             93               T  \n3  group1          47             57             44               F  \n4  group1          76             78             75               T  ",
            "text/html": "<div>\n<style scoped>\n    .dataframe tbody tr th:only-of-type {\n        vertical-align: middle;\n    }\n\n    .dataframe tbody tr th {\n        vertical-align: top;\n    }\n\n    .dataframe thead th {\n        text-align: right;\n    }\n</style>\n<table border=\"1\" class=\"dataframe\">\n  <thead>\n    <tr style=\"text-align: right;\">\n      <th></th>\n      <th>gender</th>\n      <th>race/ethnicity</th>\n      <th>education</th>\n      <th>lunch</th>\n      <th>test preparation</th>\n      <th>group</th>\n      <th>math score</th>\n      <th>reading score</th>\n      <th>writing score</th>\n      <th>Math_PassStatus</th>\n    </tr>\n  </thead>\n  <tbody>\n    <tr>\n      <th>0</th>\n      <td>female</td>\n      <td>group B</td>\n      <td>bachelor's degree</td>\n      <td>standard</td>\n      <td>none</td>\n      <td>group1</td>\n      <td>72</td>\n      <td>72</td>\n      <td>74</td>\n      <td>T</td>\n    </tr>\n    <tr>\n      <th>1</th>\n      <td>female</td>\n      <td>group C</td>\n      <td>some college</td>\n      <td>standard</td>\n      <td>completed</td>\n      <td>group1</td>\n      <td>69</td>\n      <td>90</td>\n      <td>88</td>\n      <td>T</td>\n    </tr>\n    <tr>\n      <th>2</th>\n      <td>female</td>\n      <td>group B</td>\n      <td>master's degree</td>\n      <td>standard</td>\n      <td>none</td>\n      <td>group1</td>\n      <td>90</td>\n      <td>95</td>\n      <td>93</td>\n      <td>T</td>\n    </tr>\n    <tr>\n      <th>3</th>\n      <td>male</td>\n      <td>group A</td>\n      <td>associate's degree</td>\n      <td>free/reduced</td>\n      <td>none</td>\n      <td>group1</td>\n      <td>47</td>\n      <td>57</td>\n      <td>44</td>\n      <td>F</td>\n    </tr>\n    <tr>\n      <th>4</th>\n      <td>male</td>\n      <td>group C</td>\n      <td>some college</td>\n      <td>standard</td>\n      <td>none</td>\n      <td>group1</td>\n      <td>76</td>\n      <td>78</td>\n      <td>75</td>\n      <td>T</td>\n    </tr>\n  </tbody>\n</table>\n</div>"
          },
          "metadata": {}
        }
      ]
    },
    {
      "cell_type": "markdown",
      "source": "#### Задание 15. Сколько студентов успешно сдали все экзамены?\n\nСоздайте столбец OverAll_PassStatus и запишите в него для каждого студента 'F', если студент не сдал хотя бы один из трех экзаменов, а иначе 'P'.\n\nПосчитайте количество студентов, которые сдали все экзамены.",
      "metadata": {
        "_uuid": "b753c90914ee65501e2ed263ea614d88a381c472"
      }
    },
    {
      "cell_type": "code",
      "source": "# df[] = df['math score', 'reading score', 'writing score'].apply(lambda x : 'F')\ndf.head()\ndef f(ms, rs, ws):\n    if ms < passmark or rs < passmark or ws < passmark:\n        return 'F'\n    return 'T'\ndf['OverAll_PassStatus'] = df.apply(lambda x: f(x['math score'], x['reading score'], x['writing score']), axis=1)\ndf.head()",
      "metadata": {
        "_uuid": "e98f895a022b967cab801447b616222439fe9d84",
        "trusted": true
      },
      "execution_count": 50,
      "outputs": [
        {
          "execution_count": 50,
          "output_type": "execute_result",
          "data": {
            "text/plain": "   gender race/ethnicity           education         lunch test preparation  \\\n0  female        group B   bachelor's degree      standard             none   \n1  female        group C        some college      standard        completed   \n2  female        group B     master's degree      standard             none   \n3    male        group A  associate's degree  free/reduced             none   \n4    male        group C        some college      standard             none   \n\n    group  math score  reading score  writing score Grade OverAll_PassStatus  \n0  group1          72             72             74     T                  T  \n1  group1          69             90             88     T                  T  \n2  group1          90             95             93     T                  T  \n3  group1          47             57             44     F                  F  \n4  group1          76             78             75     T                  T  ",
            "text/html": "<div>\n<style scoped>\n    .dataframe tbody tr th:only-of-type {\n        vertical-align: middle;\n    }\n\n    .dataframe tbody tr th {\n        vertical-align: top;\n    }\n\n    .dataframe thead th {\n        text-align: right;\n    }\n</style>\n<table border=\"1\" class=\"dataframe\">\n  <thead>\n    <tr style=\"text-align: right;\">\n      <th></th>\n      <th>gender</th>\n      <th>race/ethnicity</th>\n      <th>education</th>\n      <th>lunch</th>\n      <th>test preparation</th>\n      <th>group</th>\n      <th>math score</th>\n      <th>reading score</th>\n      <th>writing score</th>\n      <th>Grade</th>\n      <th>OverAll_PassStatus</th>\n    </tr>\n  </thead>\n  <tbody>\n    <tr>\n      <th>0</th>\n      <td>female</td>\n      <td>group B</td>\n      <td>bachelor's degree</td>\n      <td>standard</td>\n      <td>none</td>\n      <td>group1</td>\n      <td>72</td>\n      <td>72</td>\n      <td>74</td>\n      <td>T</td>\n      <td>T</td>\n    </tr>\n    <tr>\n      <th>1</th>\n      <td>female</td>\n      <td>group C</td>\n      <td>some college</td>\n      <td>standard</td>\n      <td>completed</td>\n      <td>group1</td>\n      <td>69</td>\n      <td>90</td>\n      <td>88</td>\n      <td>T</td>\n      <td>T</td>\n    </tr>\n    <tr>\n      <th>2</th>\n      <td>female</td>\n      <td>group B</td>\n      <td>master's degree</td>\n      <td>standard</td>\n      <td>none</td>\n      <td>group1</td>\n      <td>90</td>\n      <td>95</td>\n      <td>93</td>\n      <td>T</td>\n      <td>T</td>\n    </tr>\n    <tr>\n      <th>3</th>\n      <td>male</td>\n      <td>group A</td>\n      <td>associate's degree</td>\n      <td>free/reduced</td>\n      <td>none</td>\n      <td>group1</td>\n      <td>47</td>\n      <td>57</td>\n      <td>44</td>\n      <td>F</td>\n      <td>F</td>\n    </tr>\n    <tr>\n      <th>4</th>\n      <td>male</td>\n      <td>group C</td>\n      <td>some college</td>\n      <td>standard</td>\n      <td>none</td>\n      <td>group1</td>\n      <td>76</td>\n      <td>78</td>\n      <td>75</td>\n      <td>T</td>\n      <td>T</td>\n    </tr>\n  </tbody>\n</table>\n</div>"
          },
          "metadata": {}
        }
      ]
    },
    {
      "cell_type": "markdown",
      "source": "#### Задание 16. Переведем баллы в оценки\n\n### Система перевода баллов в оценки\n####    90 и больше = A\n####      [80;90) = B\n####      [70;80) = C\n####      [60;70) = D\n####      [50;60) = E\n####    меньше 50 = F (Fail)\n\nСоздайте вспомогательную функцию, которая будет по среднему баллу за три экзамена выставлять оценку студенту по данным выше критериям.\n\nСоздайте столбец Grade и запишите в него оценку каждого студента.\n\nВыведите количество студентов, получивших каждую из оценок.",
      "metadata": {
        "_uuid": "3af9c6cb4cbfff66d4ae09509f10b8b6ce33075d"
      }
    },
    {
      "cell_type": "code",
      "source": "def GetGrade(average_mark):\n    if average_mark >= 90:\n        return 'A' \n    if average_mark >= 80:\n        return 'B'\n    if average_mark >= 70:\n        return 'C'\n    if average_mark >= 60:\n        return 'D'\n    if average_mark >= 50:\n        return 'E'\n    return 'F'\ndf['Grade'] = df.apply(lambda x: GetGrade((x['math score'] + x['reading score'] + x['writing score'])/3), axis=1)\ndf.head()",
      "metadata": {
        "_uuid": "04707c5be4237020b906d2ac705a0db3d620506f",
        "trusted": true
      },
      "execution_count": 55,
      "outputs": [
        {
          "execution_count": 55,
          "output_type": "execute_result",
          "data": {
            "text/plain": "   gender race/ethnicity           education         lunch test preparation  \\\n0  female        group B   bachelor's degree      standard             none   \n1  female        group C        some college      standard        completed   \n2  female        group B     master's degree      standard             none   \n3    male        group A  associate's degree  free/reduced             none   \n4    male        group C        some college      standard             none   \n\n    group  math score  reading score  writing score Grade  \n0  group1          72             72             74     C  \n1  group1          69             90             88     B  \n2  group1          90             95             93     A  \n3  group1          47             57             44     F  \n4  group1          76             78             75     C  ",
            "text/html": "<div>\n<style scoped>\n    .dataframe tbody tr th:only-of-type {\n        vertical-align: middle;\n    }\n\n    .dataframe tbody tr th {\n        vertical-align: top;\n    }\n\n    .dataframe thead th {\n        text-align: right;\n    }\n</style>\n<table border=\"1\" class=\"dataframe\">\n  <thead>\n    <tr style=\"text-align: right;\">\n      <th></th>\n      <th>gender</th>\n      <th>race/ethnicity</th>\n      <th>education</th>\n      <th>lunch</th>\n      <th>test preparation</th>\n      <th>group</th>\n      <th>math score</th>\n      <th>reading score</th>\n      <th>writing score</th>\n      <th>Grade</th>\n    </tr>\n  </thead>\n  <tbody>\n    <tr>\n      <th>0</th>\n      <td>female</td>\n      <td>group B</td>\n      <td>bachelor's degree</td>\n      <td>standard</td>\n      <td>none</td>\n      <td>group1</td>\n      <td>72</td>\n      <td>72</td>\n      <td>74</td>\n      <td>C</td>\n    </tr>\n    <tr>\n      <th>1</th>\n      <td>female</td>\n      <td>group C</td>\n      <td>some college</td>\n      <td>standard</td>\n      <td>completed</td>\n      <td>group1</td>\n      <td>69</td>\n      <td>90</td>\n      <td>88</td>\n      <td>B</td>\n    </tr>\n    <tr>\n      <th>2</th>\n      <td>female</td>\n      <td>group B</td>\n      <td>master's degree</td>\n      <td>standard</td>\n      <td>none</td>\n      <td>group1</td>\n      <td>90</td>\n      <td>95</td>\n      <td>93</td>\n      <td>A</td>\n    </tr>\n    <tr>\n      <th>3</th>\n      <td>male</td>\n      <td>group A</td>\n      <td>associate's degree</td>\n      <td>free/reduced</td>\n      <td>none</td>\n      <td>group1</td>\n      <td>47</td>\n      <td>57</td>\n      <td>44</td>\n      <td>F</td>\n    </tr>\n    <tr>\n      <th>4</th>\n      <td>male</td>\n      <td>group C</td>\n      <td>some college</td>\n      <td>standard</td>\n      <td>none</td>\n      <td>group1</td>\n      <td>76</td>\n      <td>78</td>\n      <td>75</td>\n      <td>C</td>\n    </tr>\n  </tbody>\n</table>\n</div>"
          },
          "metadata": {}
        }
      ]
    }
  ]
}